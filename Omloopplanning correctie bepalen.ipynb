{
 "cells": [
  {
   "cell_type": "code",
   "execution_count": null,
   "metadata": {},
   "outputs": [],
   "source": [
    "# Importeren van benodigde libraries\n",
    "import pandas as pd\n",
    "\n",
    "# Functie om data in te laden\n",
    "def load_data():\n",
    "    # Lees de Excel bestanden in DataFrames\n",
    "    df_omloopplanning = pd.read_excel('omloopplanning.xlsx', engine='openpyxl')\n",
    "    df_dienstregeling = pd.read_excel('Connexxion data - 2024-2025.xlsx', engine='openpyxl')\n",
    "    return df_omloopplanning, df_dienstregeling\n",
    "\n",
    "def check_omloopplanning(omloop_df, dienst_df):\n",
    "    # Voeg een nieuwe kolom toe om de correctheid te markeren\n",
    "    omloop_df['correct'] = False\n",
    "\n",
    "    # Filter alleen op dienstritten in omloopplanning\n",
    "    dienst_ritten_omloop = omloop_df[omloop_df['activiteit'] == 'dienst rit']\n",
    "    \n",
    "    for idx, row in dienst_ritten_omloop.iterrows():\n",
    "        # Filter voor de overeenkomstige rijen in de dienstregeling\n",
    "        dienst_rows = dienst_df[\n",
    "            (dienst_df['startlocatie'] == row['startlocatie']) &\n",
    "            (dienst_df['eindlocatie'] == row['eindlocatie']) &\n",
    "            (dienst_df['buslijn'] == row['buslijn'])\n",
    "        ]\n",
    "        \n",
    "        for _, dienst_row in dienst_rows.iterrows():\n",
    "            # Maak een vertrektijd datetime object\n",
    "            vertrektijd = pd.to_datetime(f\"{row['starttijd'].date()} {dienst_row['vertrektijd']}\")\n",
    "            \n",
    "            # Controleer of de starttijd overeenkomt met de dienstregeling\n",
    "            if vertrektijd == row['starttijd']:\n",
    "                omloop_df.at[idx, 'correct'] = True\n",
    "                break\n",
    "\n",
    "    # Controleer of alle ritten in de dienstregeling aanwezig zijn in de omloopplanning\n",
    "    dienst_df['found_in_omloop'] = False\n",
    "\n",
    "    for idx, row in dienst_df.iterrows():\n",
    "        omloop_rows = omloop_df[\n",
    "            (omloop_df['startlocatie'] == row['startlocatie']) &\n",
    "            (omloop_df['eindlocatie'] == row['eindlocatie']) &\n",
    "            (omloop_df['buslijn'] == row['buslijn']) &\n",
    "            (omloop_df['starttijd'].dt.time == pd.to_datetime(f\"{row['vertrektijd']}\").time()) &\n",
    "            (omloop_df['activiteit'] == 'dienst rit')\n",
    "        ]\n",
    "\n",
    "        if not omloop_rows.empty:\n",
    "            dienst_df.at[idx, 'found_in_omloop'] = True\n",
    "\n",
    "    return omloop_df, dienst_df"
   ]
  }
 ],
 "metadata": {
  "language_info": {
   "name": "python"
  }
 },
 "nbformat": 4,
 "nbformat_minor": 2
}
